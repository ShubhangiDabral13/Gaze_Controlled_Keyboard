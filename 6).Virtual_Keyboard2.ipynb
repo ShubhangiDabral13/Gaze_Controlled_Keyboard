{
 "cells": [
  {
   "cell_type": "markdown",
   "metadata": {},
   "source": [
    "# 6).Virtual_Keyboard_2\n",
    "\n",
    "We’re going to split the keyboard in two parts, so that we will be able to access each part of the keyboard by looking at some specific direction.\n",
    "\n",
    "For example if we want to access to all the letters that are on the left sides, we just look to the left and the left keyboard will be activated.\n"
   ]
  },
  {
   "cell_type": "markdown",
   "metadata": {},
   "source": [
    "### Import Modules"
   ]
  },
  {
   "cell_type": "code",
   "execution_count": 1,
   "metadata": {},
   "outputs": [],
   "source": [
    "import cv2\n",
    "import numpy as np\n",
    "\n",
    "keyboard = np.zeros((600,1000,3),np.uint8)\n",
    "\n",
    "#dictionary containing the letters, each one associated with an index.\n",
    "keys_set_1 = {0: \"Q\", 1: \"W\", 2: \"E\", 3: \"R\", 4: \"T\",\n",
    "              5: \"A\", 6: \"S\", 7: \"D\", 8: \"F\", 9: \"G\",\n",
    "              10: \"Z\", 11: \"X\", 12: \"C\", 13: \"V\", 14: \"B\"}"
   ]
  },
  {
   "cell_type": "markdown",
   "metadata": {},
   "source": [
    "Then we’re going to improve the function that displays the letters on the window.\n",
    "We will simply pass into this function thress parameters: the letter_index, the letter, and if light up or not the key.\n",
    "\n",
    "Then in the funcion, for each letter we define the position where we want to display the specific key."
   ]
  },
  {
   "cell_type": "code",
   "execution_count": 2,
   "metadata": {},
   "outputs": [],
   "source": [
    "def letter(letter_index,text,letter_light):\n",
    "    \n",
    "    # Keys \n",
    "    #Each key is simply a rectangle containing some text. So we define the sizes and we draw the rectangle.\n",
    "    if letter_index == 0:\n",
    "        x = 0\n",
    "        y = 0\n",
    "    elif letter_index ==1:\n",
    "        x =200\n",
    "        y =0\n",
    "    elif letter_index ==2:\n",
    "        x = 400\n",
    "        y = 0\n",
    "      \n",
    "    elif letter_index ==3:\n",
    "        x= 600\n",
    "        y = 0\n",
    "    elif letter_index ==4:\n",
    "        x = 800\n",
    "        y = 0\n",
    "        \n",
    "    elif letter_index == 5:\n",
    "        x = 0\n",
    "        y = 200\n",
    "    elif letter_index ==6:\n",
    "        x =200\n",
    "        y =200\n",
    "    elif letter_index ==7:\n",
    "        x = 400\n",
    "        y = 200\n",
    "      \n",
    "    elif letter_index ==8:\n",
    "        x= 600\n",
    "        y = 200\n",
    "    elif letter_index ==9:\n",
    "        x = 800\n",
    "        y = 200   \n",
    "        \n",
    "    elif letter_index == 10:\n",
    "        x = 0\n",
    "        y = 400\n",
    "    elif letter_index ==11:\n",
    "        x =200\n",
    "        y =400\n",
    "    elif letter_index ==12:\n",
    "        x = 400\n",
    "        y = 400\n",
    "      \n",
    "    elif letter_index ==13:\n",
    "        x= 600\n",
    "        y = 400\n",
    "    elif letter_index ==14:\n",
    "        x = 800\n",
    "        y = 400    \n",
    "    width = 200\n",
    "    height = 200\n",
    "    th = 3 # thickness\n",
    "    \n",
    "    if letter_light == True:\n",
    "        cv2.rectangle(keyboard, (x + th, y + th), (x + width - th, y + height - th), (255, 255, 255), -1)\n",
    "\n",
    "    else:   \n",
    "        cv2.rectangle(keyboard, (x + th, y + th), (x + width - th, y + height - th), (255, 0, 0), th)\n",
    "    \n",
    "    \n",
    "    #Inside the rectangle now we put the letter. So we define the sizes and style of the text and we center it.\n",
    "    #Text settings\n",
    "    font_letter = cv2.FONT_HERSHEY_PLAIN\n",
    "    font_scale = 10\n",
    "    font_th = 4\n",
    "    text_size = cv2.getTextSize(text, font_letter, font_scale, font_th)[0]\n",
    "    width_text, height_text = text_size[0], text_size[1]\n",
    "    text_x = int((width - width_text) / 2) + x\n",
    "    text_y = int((height + height_text) / 2) + y\n",
    "    cv2.putText(keyboard, text, (text_x, text_y), font_letter, font_scale, (255, 0, 0), font_th)"
   ]
  },
  {
   "cell_type": "markdown",
   "metadata": {},
   "source": [
    "Finally we can display all the letters looping trough the dictionary we created before, containing the keys of left side of the keyboard."
   ]
  },
  {
   "cell_type": "code",
   "execution_count": 3,
   "metadata": {},
   "outputs": [],
   "source": [
    "for i in range(15):\n",
    "    if i == 5:\n",
    "        light = True\n",
    "    else:\n",
    "        light = False\n",
    "    letter(i,keys_set_1[i],light)\n",
    "    "
   ]
  },
  {
   "cell_type": "code",
   "execution_count": 4,
   "metadata": {},
   "outputs": [],
   "source": [
    "cv2.imshow(\"KEYBOARD\",keyboard)\n",
    "cv2.waitKey(0)\n",
    "cv2.destroyAllWindows()"
   ]
  },
  {
   "cell_type": "markdown",
   "metadata": {},
   "source": [
    "### Screen_Shot\n",
    "\n",
    "Image of the keyboard:-\n",
    "\n",
    "<img src=\"picture/keyboard2.png\">\n",
    "\n",
    "\n",
    "ShubhangiDabral13..."
   ]
  }
 ],
 "metadata": {
  "kernelspec": {
   "display_name": "Python 3",
   "language": "python",
   "name": "python3"
  },
  "language_info": {
   "codemirror_mode": {
    "name": "ipython",
    "version": 3
   },
   "file_extension": ".py",
   "mimetype": "text/x-python",
   "name": "python",
   "nbconvert_exporter": "python",
   "pygments_lexer": "ipython3",
   "version": "3.5.5"
  }
 },
 "nbformat": 4,
 "nbformat_minor": 2
}
