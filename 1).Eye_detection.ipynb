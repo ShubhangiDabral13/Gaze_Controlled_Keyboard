{
 "cells": [
  {
   "cell_type": "markdown",
   "metadata": {},
   "source": [
    "## Eye_Detection\n",
    "\n",
    "**In this  we will work on eye detection. We are going to detect the face and then the exact location of the eyes.**"
   ]
  },
  {
   "cell_type": "markdown",
   "metadata": {},
   "source": [
    "### Importing modules\n",
    "**cv2**:-for image processing\n",
    "\n",
    "**numpy**:-for array processing\n",
    "\n",
    "**dlib**:-used to detect facial landmarks"
   ]
  },
  {
   "cell_type": "code",
   "execution_count": 1,
   "metadata": {},
   "outputs": [],
   "source": [
    "# importing modules which will be required for simple eye detection\n",
    "import cv2\n",
    "import numpy as np\n",
    "import dlib\n"
   ]
  },
  {
   "cell_type": "code",
   "execution_count": 2,
   "metadata": {},
   "outputs": [],
   "source": [
    "# we used the detector to detect the frontal face\n",
    "detector = dlib.get_frontal_face_detector()\n",
    "\n",
    "# it will dectect the facial landwark points \n",
    "predictor = dlib.shape_predictor(\"shape_predictor_68_face_landmarks.dat\")\n"
   ]
  },
  {
   "cell_type": "code",
   "execution_count": 3,
   "metadata": {},
   "outputs": [],
   "source": [
    "#We create a function that we will need later on to detect the medium point.\n",
    "#On this function we simply put the coordinates of two points and will return the medium point \n",
    "#(the points in the middle between the two points).\n",
    "def midpoint(p1 ,p2):\n",
    "    return int((p1.x + p2.x)/2), int((p1.y + p2.y)/2)"
   ]
  },
  {
   "cell_type": "markdown",
   "metadata": {},
   "source": [
    "#### Eye detection\n",
    "We are taking the frames in real time from the webcam, we already detected the face and now it’s the time to detect the eyes.\n",
    "\n",
    "Using the face landmarks detection approach we can find 68 specific landmarks of the face. To each point there is a specific index assigned.\n",
    "We need two detect separately the two eyes:\n",
    "\n",
    "Left eye points: (36, 37, 38, 39, 40, 41)\n",
    "\n",
    "Right eye points: (42, 43, 44, 45, 46, 47)\n",
    "\n",
    "<img src=\"picture/landmarks_points.png\">"
   ]
  },
  {
   "cell_type": "code",
   "execution_count": 4,
   "metadata": {},
   "outputs": [],
   "source": [
    "# to open webcab to capture the image\n",
    "cap = cv2.VideoCapture(0)\n",
    "while True:\n",
    "    _,frame = cap.read()\n",
    "    \n",
    "    #change the color of the frame captured by webcam to grey\n",
    "    gray = cv2.cvtColor(frame, cv2.COLOR_BGR2GRAY)\n",
    "    \n",
    "    # to detect faces from grey color frame\n",
    "    faces = detector(gray)\n",
    "    for face in faces:\n",
    "        \n",
    "        #to detect the landmarks of a face\n",
    "        landmarks = predictor(gray, face)\n",
    "        \n",
    "        #to detect the left_side of a left eye\n",
    "        left_point = (landmarks.part(36).x, landmarks.part(36).y)\n",
    "        \n",
    "        #to detect the right_side of the left eye\n",
    "        right_point = (landmarks.part(39).x, landmarks.part(39).y)\n",
    "        \n",
    "        #to detect the mid point for the center of top in left eye\n",
    "        center_top = midpoint(landmarks.part(37), landmarks.part(38))\n",
    "        \n",
    "        #to detect the mid point for the center of the bottom in left eye\n",
    "        center_bottom = midpoint(landmarks.part(41), landmarks.part(40))\n",
    "        \n",
    "        #creating the horizontal line from the left_side to the right_side of the left eye\n",
    "        hor_line = cv2.line(frame, left_point, right_point, (0, 255, 0), 2)\n",
    "        \n",
    "        #creating the vertical line from  the center_top to center_bottom\n",
    "        ver_line = cv2.line(frame, center_top, center_bottom, (0,255,0),2)\n",
    "    cv2.imshow(\"Frame\",frame)\n",
    "    \n",
    "    \n",
    "    key = cv2.waitKey(1)\n",
    "    #close the webcam when escape key is pressed\n",
    "    if key == 27:\n",
    "        break\n",
    "\n",
    "cap.release()\n",
    "cv2.destroyAllWindows()"
   ]
  },
  {
   "cell_type": "markdown",
   "metadata": {},
   "source": [
    "ShubhangiDabral13...\n"
   ]
  }
 ],
 "metadata": {
  "kernelspec": {
   "display_name": "Python 3",
   "language": "python",
   "name": "python3"
  },
  "language_info": {
   "codemirror_mode": {
    "name": "ipython",
    "version": 3
   },
   "file_extension": ".py",
   "mimetype": "text/x-python",
   "name": "python",
   "nbconvert_exporter": "python",
   "pygments_lexer": "ipython3",
   "version": "3.5.5"
  }
 },
 "nbformat": 4,
 "nbformat_minor": 2
}
